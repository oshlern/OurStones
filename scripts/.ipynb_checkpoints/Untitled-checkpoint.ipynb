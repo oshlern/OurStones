{
 "cells": [
  {
   "cell_type": "code",
   "execution_count": 1,
   "metadata": {},
   "outputs": [],
   "source": [
    "import numpy as np"
   ]
  },
  {
   "cell_type": "code",
   "execution_count": 2,
   "metadata": {},
   "outputs": [],
   "source": [
    "data = np.array([[-1.3, -8.8, -1, -13.6, -9.3],\n",
    "[-0.01, -0.055, 0, -0.31, 0],\n",
    "[0, 0.065, 0.01, 0.113, -0.15]]).T\n",
    "center_contact = data[0]\n",
    "center_press = data[1]\n",
    "y_contact = data[2]\n",
    "y_press = data[3]\n",
    "x_press = data[4]"
   ]
  },
  {
   "cell_type": "code",
   "execution_count": 28,
   "metadata": {},
   "outputs": [],
   "source": [
    "names = [\"center_contact\",\n",
    "\"center_press\",\n",
    "\"y_contact\",\n",
    "\"y_press\",\n",
    "\"x_press\"]"
   ]
  },
  {
   "cell_type": "code",
   "execution_count": 4,
   "metadata": {},
   "outputs": [],
   "source": [
    "FT_data = center_contact"
   ]
  },
  {
   "cell_type": "code",
   "execution_count": 112,
   "metadata": {},
   "outputs": [
    {
     "data": {
      "text/plain": [
       "(array([ 0. ,  0. , -1.3]), array([-0.01,  0.  ,  0.  ]))"
      ]
     },
     "execution_count": 112,
     "metadata": {},
     "output_type": "execute_result"
    }
   ],
   "source": [
    "Fx, Fy, Tz = [0 for _ in range(3)] #[((0.5 - np.random.random()) * 100) // 1 * 0.001 for _ in range(3)] \n",
    "Fz, Tx, Ty = FT_data\n",
    "F, T = np.array([Fx, Fy, Fz]), np.array([Tx, Ty, Tz])\n",
    "F, T"
   ]
  },
  {
   "cell_type": "code",
   "execution_count": 113,
   "metadata": {},
   "outputs": [],
   "source": [
    "Z_HAT = np.array([0,0,1])\n",
    "\n",
    "def process(FT_data, name):\n",
    "    Fx, Fy, Tz = [((0.5 - np.random.random()) * 100) // 1 * 0.001 for _ in range(3)] \n",
    "    Fz, Tx, Ty = FT_data\n",
    "    F, T = np.array([Fx, Fy, Fz]), np.array([Tx, Ty, Tz])\n",
    "    T_norm = np.linalg.norm(T)\n",
    "    F_norm = np.linalg.norm(F)\n",
    "\n",
    "    r = np.cross(Z_HAT, T)\n",
    "    F_normal = F\n",
    "    r_scaled = r / np.linalg.norm(F_normal)\n",
    "    \n",
    "    print(name, r, r_scaled)\n",
    "    print(F_norm, T_norm, F, T, np.linalg.norm(T) / np.linalg.norm(F))\n",
    "    print(np.linalg.norm(r_scaled))\n",
    "    print(\"\\n\\n\")\n",
    "    \n",
    "    return r_scaled\n",
    "    \n",
    "\n",
    "# r\n",
    "# r_scaled"
   ]
  },
  {
   "cell_type": "code",
   "execution_count": 114,
   "metadata": {},
   "outputs": [
    {
     "name": "stdout",
     "output_type": "stream",
     "text": [
      "center_contact [-0.   -0.01  0.  ] [-0.         -0.00769074  0.        ]\n",
      "1.300264972995889 0.012206555615733704 [-0.017 -0.02  -1.3  ] [-0.01   0.    -0.007] 0.00938774470530346\n",
      "0.0076907401242682066\n",
      "\n",
      "\n",
      "\n",
      "center_press [-0.065 -0.055  0.   ] [-0.00738632 -0.00624996  0.        ]\n",
      "8.800052556661239 0.09584362263604188 [-3.0e-02 -5.0e-03 -8.8e+00] [-0.055  0.065 -0.044] 0.010891255707727861\n",
      "0.009675729921087763\n",
      "\n",
      "\n",
      "\n",
      "y_contact [-0.01  0.    0.  ] [-0.00999035  0.          0.        ]\n",
      "1.000966033389745 0.016401219466856725 [-0.042  0.013 -1.   ] [0.    0.01  0.013] 0.01638539063240181\n",
      "0.00999034898930113\n",
      "\n",
      "\n",
      "\n",
      "y_press [-0.113 -0.31   0.   ] [-0.00830876 -0.02279395  0.        ]\n",
      "13.600100183454531 0.3304436411856037 [ -0.042  -0.031 -13.6  ] [-0.31   0.113 -0.018] 0.024297147574516502\n",
      "0.024261073264835953\n",
      "\n",
      "\n",
      "\n",
      "x_press [ 0.15  0.   -0.  ] [ 0.01612877  0.         -0.        ]\n",
      "9.300148923538806 0.15047923444781341 [-0.033  0.041 -9.3  ] [ 0.    -0.15   0.012] 0.016180303744056008\n",
      "0.016128773983430298\n",
      "\n",
      "\n",
      "\n"
     ]
    }
   ],
   "source": [
    "for i in range(len(names)):\n",
    "    process(data[i], names[i])"
   ]
  },
  {
   "cell_type": "code",
   "execution_count": 115,
   "metadata": {},
   "outputs": [
    {
     "name": "stdout",
     "output_type": "stream",
     "text": [
      "x_press [ 0.15  0.   -0.  ] [ 0.01612897  0.         -0.        ]\n",
      "9.30003553756651 0.15402921800749364 [-6.0e-03  2.5e-02 -9.3e+00] [ 0.    -0.15  -0.035] 0.016562218217909912\n",
      "0.016128970625336952\n",
      "\n",
      "\n",
      "\n",
      "y_press [-0.113 -0.31   0.   ] [-0.0083088  -0.02279405  0.        ]\n",
      "13.600042536698185 0.33020902471010694 [  0.014   0.031 -13.6  ] [-0.31   0.113  0.013] 0.024279999405816197\n",
      "0.024261176100703958\n",
      "\n",
      "\n",
      "\n",
      "center_press [-0.065 -0.055  0.   ] [-0.00738631 -0.00624996  0.        ]\n",
      "8.800061477057987 0.08585452812752511 [-0.031  0.011 -8.8  ] [-0.055  0.065  0.011] 0.00975612822153008\n",
      "0.009675720113048358\n",
      "\n",
      "\n",
      "\n"
     ]
    },
    {
     "data": {
      "image/png": "[encoded data removed]",
      "text/plain": [
       "<Figure size 432x288 with 1 Axes>"
      ]
     },
     "metadata": {
      "needs_background": "light"
     },
     "output_type": "display_data"
    }
   ],
   "source": [
    "import matplotlib.pyplot as plt\n",
    "\n",
    "x_pressed_pos = np.array([0.025, 0.002])\n",
    "y_pressed_pos = -np.array([0.007, 0.029])\n",
    "center_pressed_pos = -np.array([0.004, 0.001])\n",
    "x_pressed_r = -process(x_press, \"x_press\")\n",
    "y_pressed_r = -process(y_press, \"y_press\")\n",
    "center_pressed_r = -process(center_press, \"center_press\")\n",
    "\n",
    "# plt.quiver([x_pressed_pos[0], y_pressed_pos[0]],\n",
    "#            [x_pressed_pos[1], y_pressed_pos[1]],\n",
    "#            [x_pressed_r[0], y_pressed_r[0]],\n",
    "#            [x_pressed_r[1], y_pressed_r[1]],\n",
    "#            color=[\"blue\", \"red\"],\n",
    "#            scale_units='xy'\n",
    "#           )\n",
    "\n",
    "plt.plot(0, 0, \"black\", marker=\"o\", ms=40, zorder=3)\n",
    "plt.plot(x_pressed_pos[0], x_pressed_pos[1], \"bo\", ms=35, zorder=4)\n",
    "plt.plot(y_pressed_pos[0], y_pressed_pos[1], \"ro\", ms=35, zorder=5)\n",
    "plt.plot(center_pressed_pos[0], center_pressed_pos[1], \"go\", ms=35,zorder=6)\n",
    "plt.draw()\n",
    "plt.arrow(x_pressed_pos[0], x_pressed_pos[1], x_pressed_r[0], x_pressed_r[1], color=\"blue\", zorder=10)\n",
    "plt.arrow(y_pressed_pos[0], y_pressed_pos[1], y_pressed_r[0], y_pressed_r[1], color=\"red\",zorder=11)\n",
    "plt.arrow(center_pressed_pos[0], center_pressed_pos[1], center_pressed_r[0], center_pressed_r[1], color=\"green\",zorder=12)\n",
    "\n",
    "plt.xlim(-0.018, 0.032)\n",
    "plt.ylim(-0.035, 0.015)\n",
    "plt.xlabel(\"x\")\n",
    "plt.ylabel(\"y\")\n",
    "# plt.title()\n",
    "plt.gca().set_aspect('equal', adjustable='box')\n",
    "# plt.axis('square')\n",
    "\n",
    "plt.draw()"
   ]
  },
  {
   "cell_type": "code",
   "execution_count": 42,
   "metadata": {},
   "outputs": [
    {
     "data": {
      "text/plain": [
       "array([ 0.01612897,  0.        , -0.        ])"
      ]
     },
     "execution_count": 42,
     "metadata": {},
     "output_type": "execute_result"
    }
   ],
   "source": [
    "x_pressed_r\n",
    "# x_pressed_pos"
   ]
  },
  {
   "cell_type": "code",
   "execution_count": 19,
   "metadata": {},
   "outputs": [
    {
     "ename": "NameError",
     "evalue": "name 'self' is not defined",
     "output_type": "error",
     "traceback": [
      "\u001b[0;31m---------------------------------------------------------------------------\u001b[0m",
      "\u001b[0;31mNameError\u001b[0m                                 Traceback (most recent call last)",
      "\u001b[0;32m<ipython-input-19-a76e935e1f5d>\u001b[0m in \u001b[0;36m<module>\u001b[0;34m\u001b[0m\n\u001b[1;32m      3\u001b[0m \u001b[0;34m\u001b[0m\u001b[0m\n\u001b[1;32m      4\u001b[0m \u001b[0;34m\u001b[0m\u001b[0m\n\u001b[0;32m----> 5\u001b[0;31m \u001b[0;32mif\u001b[0m \u001b[0;34m(\u001b[0m\u001b[0mnp\u001b[0m\u001b[0;34m.\u001b[0m\u001b[0mlinalg\u001b[0m\u001b[0;34m.\u001b[0m\u001b[0mnorm\u001b[0m\u001b[0;34m(\u001b[0m\u001b[0mT\u001b[0m\u001b[0;34m)\u001b[0m \u001b[0;34m/\u001b[0m \u001b[0mnp\u001b[0m\u001b[0;34m.\u001b[0m\u001b[0mlinalg\u001b[0m\u001b[0;34m.\u001b[0m\u001b[0mnorm\u001b[0m\u001b[0;34m(\u001b[0m\u001b[0mF\u001b[0m\u001b[0;34m)\u001b[0m\u001b[0;34m)\u001b[0m \u001b[0;34m<\u001b[0m \u001b[0mself\u001b[0m\u001b[0;34m.\u001b[0m\u001b[0mbalance_threshold\u001b[0m\u001b[0;34m:\u001b[0m\u001b[0;34m\u001b[0m\u001b[0;34m\u001b[0m\u001b[0m\n\u001b[0m\u001b[1;32m      6\u001b[0m     \u001b[0mprint\u001b[0m\u001b[0;34m(\u001b[0m\u001b[0;34m\"Object is balanced. Releasing\"\u001b[0m\u001b[0;34m)\u001b[0m\u001b[0;34m\u001b[0m\u001b[0;34m\u001b[0m\u001b[0m\n\u001b[1;32m      7\u001b[0m \u001b[0;34m\u001b[0m\u001b[0m\n",
      "\u001b[0;31mNameError\u001b[0m: name 'self' is not defined"
     ]
    }
   ],
   "source": [
    "# Sense\n",
    "\n",
    "\n",
    "if (np.linalg.norm(T) / np.linalg.norm(F)) < self.balance_threshold:\n",
    "    print(\"Object is balanced. Releasing\")\n",
    "\n",
    "r = np.cross(Z_HAT, T)\n",
    "F_normal = F\n",
    "r_scaled = r / np.linalg.norm(F_normal) # Fz = F_N. Since we calibrated to include gravity.    generally, F_N = F (what about)\n",
    "# r_unit =  r/ np.linalg.norm(r)\n",
    "# F_N = np.array([Fx, Fy, Fz])\n",
    "# normal_vec = F_N / np.linalg.norm(F_N)\n",
    "# r_to_flat = - np.cross(normal_vec, np.cross(normal_vec, Z_HAT))\n",
    "# r_to_COM = - np.cross(normal_vec, np.cross(normal_vec, r))\n",
    "\n",
    "if np.linalg.norm(r_scaled) > self.max_adjustment:\n",
    "    r_scaled = (r_scaled / np.linalg.norm(r_scaled)) * self.max_adjustment\n",
    "\n",
    "self.arm.relative_move(0.1 * Z_HAT) # go up 10cm\n",
    "current_position, current_quat = self.arm.read_pose()\n",
    "new_overhead_position = current_position + r_scaled # overhead position for next placement\n",
    "return new_overhead_position"
   ]
  },
  {
   "cell_type": "code",
   "execution_count": null,
   "metadata": {},
   "outputs": [],
   "source": []
  }
 ],
 "metadata": {
  "kernelspec": {
   "display_name": "Python 3",
   "language": "python",
   "name": "python3"
  },
  "language_info": {
   "codemirror_mode": {
    "name": "ipython",
    "version": 3
   },
   "file_extension": ".py",
   "mimetype": "text/x-python",
   "name": "python",
   "nbconvert_exporter": "python",
   "pygments_lexer": "ipython3",
   "version": "3.7.4"
  }
 },
 "nbformat": 4,
 "nbformat_minor": 2
}
